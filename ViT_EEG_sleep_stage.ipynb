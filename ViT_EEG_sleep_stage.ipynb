{
  "nbformat": 4,
  "nbformat_minor": 0,
  "metadata": {
    "colab": {
      "provenance": [],
      "authorship_tag": "ABX9TyNCSl9q56G3WBbrVzxAklsS",
      "include_colab_link": true
    },
    "kernelspec": {
      "name": "python3",
      "display_name": "Python 3"
    },
    "language_info": {
      "name": "python"
    }
  },
  "cells": [
    {
      "cell_type": "markdown",
      "metadata": {
        "id": "view-in-github",
        "colab_type": "text"
      },
      "source": [
        "<a href=\"https://colab.research.google.com/github/IliaFarzi/EEG_Sleep_Stage/blob/master/ViT_EEG_sleep_stage.ipynb\" target=\"_parent\"><img src=\"https://colab.research.google.com/assets/colab-badge.svg\" alt=\"Open In Colab\"/></a>"
      ]
    },
    {
      "cell_type": "code",
      "source": [
        "from google.colab import drive\n",
        "drive.mount('/content/drive')"
      ],
      "metadata": {
        "colab": {
          "base_uri": "https://localhost:8080/"
        },
        "id": "Pyu0mDqcjvb0",
        "outputId": "70d38a60-68e4-4c19-c057-8a0df7c21ca0"
      },
      "execution_count": 1,
      "outputs": [
        {
          "output_type": "stream",
          "name": "stdout",
          "text": [
            "Mounted at /content/drive\n"
          ]
        }
      ]
    },
    {
      "cell_type": "code",
      "execution_count": null,
      "metadata": {
        "id": "X7T5YAnyjr-n"
      },
      "outputs": [],
      "source": [
        "# prompt: unzip /content/drive/MyDrive/AISContest_Data.zip to content\n",
        "\n",
        "!unzip /content/drive/MyDrive/AISContest_Data.zip -d /content/data"
      ]
    },
    {
      "cell_type": "markdown",
      "source": [
        "# Formating data"
      ],
      "metadata": {
        "id": "sHgt7LCmmdeM"
      }
    },
    {
      "cell_type": "code",
      "source": [
        "import os\n",
        "import random\n",
        "import string\n",
        "import pandas as pd"
      ],
      "metadata": {
        "id": "UzzxkmdZmp0A"
      },
      "execution_count": 4,
      "outputs": []
    },
    {
      "cell_type": "code",
      "source": [
        "# Function to generate random 16-digit hexadecimal name\n",
        "def generate_hex_name():\n",
        "    return ''.join(random.choices(string.hexdigits[:16], k=16)).lower()\n",
        "\n",
        "generate_hex_name()"
      ],
      "metadata": {
        "colab": {
          "base_uri": "https://localhost:8080/",
          "height": 35
        },
        "id": "5J9jnXE9mzgC",
        "outputId": "004e3239-52c9-4177-bc0d-9a64412f63dc"
      },
      "execution_count": 9,
      "outputs": [
        {
          "output_type": "execute_result",
          "data": {
            "text/plain": [
              "'2599efc92a16402f'"
            ],
            "application/vnd.google.colaboratory.intrinsic+json": {
              "type": "string"
            }
          },
          "metadata": {},
          "execution_count": 9
        }
      ]
    },
    {
      "cell_type": "code",
      "source": [
        "# Define paths\n",
        "input_dir = \"/content/data/AISContest_Data\"\n",
        "output_dir = \"/content/formated_data\"\n",
        "label_output_path = \"/content/labels.csv\"\n",
        "file_extention = '.npy'\n",
        "os.makedirs(output_dir, exist_ok=True)\n",
        "\n",
        "# Define label mapping\n",
        "label_mapping = {\n",
        "    \"0\": \"WAKE\",\n",
        "    \"1\": \"NERM1\",\n",
        "    \"2\": \"NERM2\",\n",
        "    \"3\": \"NERM3\",\n",
        "    \"4\": \"REM\"\n",
        "}"
      ],
      "metadata": {
        "id": "LZy0kv98mqiv"
      },
      "execution_count": 14,
      "outputs": []
    },
    {
      "cell_type": "code",
      "source": [
        "# Process each subfolder\n",
        "csv_data = []\n",
        "try:\n",
        "  os.remove(label_output_path)\n",
        "  os.rmdir(output_dir)\n",
        "except:\n",
        "  print('cleaningAssetsFailed')\n",
        "\n",
        "for label, label_name in label_mapping.items():\n",
        "    folder_path = os.path.join(input_dir, label)\n",
        "    if os.path.isdir(folder_path):\n",
        "        for file_name in os.listdir(folder_path):\n",
        "            if file_name.endswith(file_extention):\n",
        "                # Generate new filename\n",
        "                new_name = generate_hex_name() + file_extention\n",
        "\n",
        "                # Define source and destination paths\n",
        "                src_path = os.path.join(folder_path, file_name)\n",
        "                dst_path = os.path.join(output_dir, new_name)\n",
        "\n",
        "                # Move file\n",
        "                os.rename(src_path, dst_path)\n",
        "\n",
        "                # Add entry to CSV data\n",
        "                csv_data.append({\n",
        "                    \"instance\": new_name.replace(file_extention, \"\"),\n",
        "                    \"label\": label,\n",
        "                    \"label_name\": label_name\n",
        "                })\n",
        "\n",
        "# Create DataFrame and save as CSV\n",
        "csv_df = pd.DataFrame(csv_data)\n",
        "csv_df.to_csv(label_output_path, index=False)\n",
        "\n",
        "print(f\"Processing complete. Restructured data is in '{output_dir}'\")"
      ],
      "metadata": {
        "colab": {
          "base_uri": "https://localhost:8080/"
        },
        "id": "mFLjRG76kUL_",
        "outputId": "47f0f267-4924-4683-ce3c-6c1bb8beb1c5"
      },
      "execution_count": 19,
      "outputs": [
        {
          "output_type": "stream",
          "name": "stdout",
          "text": [
            "cleaningAssetsFailed\n",
            "Processing complete. Restructured data is in '/content/formated_data'\n"
          ]
        }
      ]
    },
    {
      "cell_type": "code",
      "source": [
        "df = pd.read_csv(label_output_path)\n",
        "df.head()"
      ],
      "metadata": {
        "colab": {
          "base_uri": "https://localhost:8080/",
          "height": 206
        },
        "id": "hlNgGkHqow7Y",
        "outputId": "74d0c4cf-d862-42b7-867a-16c77eb16446"
      },
      "execution_count": 20,
      "outputs": [
        {
          "output_type": "execute_result",
          "data": {
            "text/plain": [
              "           instance  label label_name\n",
              "0  8de82bbfb1c9b7ad      0       WAKE\n",
              "1  8717f5f12c456a1b      0       WAKE\n",
              "2  233ca43e56671e10      0       WAKE\n",
              "3  c3b06ac1998fd603      0       WAKE\n",
              "4  bc118fbec831f7c3      0       WAKE"
            ],
            "text/html": [
              "\n",
              "  <div id=\"df-5e80fa62-08f9-46f8-b469-3dff714e35a0\" class=\"colab-df-container\">\n",
              "    <div>\n",
              "<style scoped>\n",
              "    .dataframe tbody tr th:only-of-type {\n",
              "        vertical-align: middle;\n",
              "    }\n",
              "\n",
              "    .dataframe tbody tr th {\n",
              "        vertical-align: top;\n",
              "    }\n",
              "\n",
              "    .dataframe thead th {\n",
              "        text-align: right;\n",
              "    }\n",
              "</style>\n",
              "<table border=\"1\" class=\"dataframe\">\n",
              "  <thead>\n",
              "    <tr style=\"text-align: right;\">\n",
              "      <th></th>\n",
              "      <th>instance</th>\n",
              "      <th>label</th>\n",
              "      <th>label_name</th>\n",
              "    </tr>\n",
              "  </thead>\n",
              "  <tbody>\n",
              "    <tr>\n",
              "      <th>0</th>\n",
              "      <td>8de82bbfb1c9b7ad</td>\n",
              "      <td>0</td>\n",
              "      <td>WAKE</td>\n",
              "    </tr>\n",
              "    <tr>\n",
              "      <th>1</th>\n",
              "      <td>8717f5f12c456a1b</td>\n",
              "      <td>0</td>\n",
              "      <td>WAKE</td>\n",
              "    </tr>\n",
              "    <tr>\n",
              "      <th>2</th>\n",
              "      <td>233ca43e56671e10</td>\n",
              "      <td>0</td>\n",
              "      <td>WAKE</td>\n",
              "    </tr>\n",
              "    <tr>\n",
              "      <th>3</th>\n",
              "      <td>c3b06ac1998fd603</td>\n",
              "      <td>0</td>\n",
              "      <td>WAKE</td>\n",
              "    </tr>\n",
              "    <tr>\n",
              "      <th>4</th>\n",
              "      <td>bc118fbec831f7c3</td>\n",
              "      <td>0</td>\n",
              "      <td>WAKE</td>\n",
              "    </tr>\n",
              "  </tbody>\n",
              "</table>\n",
              "</div>\n",
              "    <div class=\"colab-df-buttons\">\n",
              "\n",
              "  <div class=\"colab-df-container\">\n",
              "    <button class=\"colab-df-convert\" onclick=\"convertToInteractive('df-5e80fa62-08f9-46f8-b469-3dff714e35a0')\"\n",
              "            title=\"Convert this dataframe to an interactive table.\"\n",
              "            style=\"display:none;\">\n",
              "\n",
              "  <svg xmlns=\"http://www.w3.org/2000/svg\" height=\"24px\" viewBox=\"0 -960 960 960\">\n",
              "    <path d=\"M120-120v-720h720v720H120Zm60-500h600v-160H180v160Zm220 220h160v-160H400v160Zm0 220h160v-160H400v160ZM180-400h160v-160H180v160Zm440 0h160v-160H620v160ZM180-180h160v-160H180v160Zm440 0h160v-160H620v160Z\"/>\n",
              "  </svg>\n",
              "    </button>\n",
              "\n",
              "  <style>\n",
              "    .colab-df-container {\n",
              "      display:flex;\n",
              "      gap: 12px;\n",
              "    }\n",
              "\n",
              "    .colab-df-convert {\n",
              "      background-color: #E8F0FE;\n",
              "      border: none;\n",
              "      border-radius: 50%;\n",
              "      cursor: pointer;\n",
              "      display: none;\n",
              "      fill: #1967D2;\n",
              "      height: 32px;\n",
              "      padding: 0 0 0 0;\n",
              "      width: 32px;\n",
              "    }\n",
              "\n",
              "    .colab-df-convert:hover {\n",
              "      background-color: #E2EBFA;\n",
              "      box-shadow: 0px 1px 2px rgba(60, 64, 67, 0.3), 0px 1px 3px 1px rgba(60, 64, 67, 0.15);\n",
              "      fill: #174EA6;\n",
              "    }\n",
              "\n",
              "    .colab-df-buttons div {\n",
              "      margin-bottom: 4px;\n",
              "    }\n",
              "\n",
              "    [theme=dark] .colab-df-convert {\n",
              "      background-color: #3B4455;\n",
              "      fill: #D2E3FC;\n",
              "    }\n",
              "\n",
              "    [theme=dark] .colab-df-convert:hover {\n",
              "      background-color: #434B5C;\n",
              "      box-shadow: 0px 1px 3px 1px rgba(0, 0, 0, 0.15);\n",
              "      filter: drop-shadow(0px 1px 2px rgba(0, 0, 0, 0.3));\n",
              "      fill: #FFFFFF;\n",
              "    }\n",
              "  </style>\n",
              "\n",
              "    <script>\n",
              "      const buttonEl =\n",
              "        document.querySelector('#df-5e80fa62-08f9-46f8-b469-3dff714e35a0 button.colab-df-convert');\n",
              "      buttonEl.style.display =\n",
              "        google.colab.kernel.accessAllowed ? 'block' : 'none';\n",
              "\n",
              "      async function convertToInteractive(key) {\n",
              "        const element = document.querySelector('#df-5e80fa62-08f9-46f8-b469-3dff714e35a0');\n",
              "        const dataTable =\n",
              "          await google.colab.kernel.invokeFunction('convertToInteractive',\n",
              "                                                    [key], {});\n",
              "        if (!dataTable) return;\n",
              "\n",
              "        const docLinkHtml = 'Like what you see? Visit the ' +\n",
              "          '<a target=\"_blank\" href=https://colab.research.google.com/notebooks/data_table.ipynb>data table notebook</a>'\n",
              "          + ' to learn more about interactive tables.';\n",
              "        element.innerHTML = '';\n",
              "        dataTable['output_type'] = 'display_data';\n",
              "        await google.colab.output.renderOutput(dataTable, element);\n",
              "        const docLink = document.createElement('div');\n",
              "        docLink.innerHTML = docLinkHtml;\n",
              "        element.appendChild(docLink);\n",
              "      }\n",
              "    </script>\n",
              "  </div>\n",
              "\n",
              "\n",
              "<div id=\"df-c2a73053-5f8d-44cd-a447-e2ab9c2b2d1d\">\n",
              "  <button class=\"colab-df-quickchart\" onclick=\"quickchart('df-c2a73053-5f8d-44cd-a447-e2ab9c2b2d1d')\"\n",
              "            title=\"Suggest charts\"\n",
              "            style=\"display:none;\">\n",
              "\n",
              "<svg xmlns=\"http://www.w3.org/2000/svg\" height=\"24px\"viewBox=\"0 0 24 24\"\n",
              "     width=\"24px\">\n",
              "    <g>\n",
              "        <path d=\"M19 3H5c-1.1 0-2 .9-2 2v14c0 1.1.9 2 2 2h14c1.1 0 2-.9 2-2V5c0-1.1-.9-2-2-2zM9 17H7v-7h2v7zm4 0h-2V7h2v10zm4 0h-2v-4h2v4z\"/>\n",
              "    </g>\n",
              "</svg>\n",
              "  </button>\n",
              "\n",
              "<style>\n",
              "  .colab-df-quickchart {\n",
              "      --bg-color: #E8F0FE;\n",
              "      --fill-color: #1967D2;\n",
              "      --hover-bg-color: #E2EBFA;\n",
              "      --hover-fill-color: #174EA6;\n",
              "      --disabled-fill-color: #AAA;\n",
              "      --disabled-bg-color: #DDD;\n",
              "  }\n",
              "\n",
              "  [theme=dark] .colab-df-quickchart {\n",
              "      --bg-color: #3B4455;\n",
              "      --fill-color: #D2E3FC;\n",
              "      --hover-bg-color: #434B5C;\n",
              "      --hover-fill-color: #FFFFFF;\n",
              "      --disabled-bg-color: #3B4455;\n",
              "      --disabled-fill-color: #666;\n",
              "  }\n",
              "\n",
              "  .colab-df-quickchart {\n",
              "    background-color: var(--bg-color);\n",
              "    border: none;\n",
              "    border-radius: 50%;\n",
              "    cursor: pointer;\n",
              "    display: none;\n",
              "    fill: var(--fill-color);\n",
              "    height: 32px;\n",
              "    padding: 0;\n",
              "    width: 32px;\n",
              "  }\n",
              "\n",
              "  .colab-df-quickchart:hover {\n",
              "    background-color: var(--hover-bg-color);\n",
              "    box-shadow: 0 1px 2px rgba(60, 64, 67, 0.3), 0 1px 3px 1px rgba(60, 64, 67, 0.15);\n",
              "    fill: var(--button-hover-fill-color);\n",
              "  }\n",
              "\n",
              "  .colab-df-quickchart-complete:disabled,\n",
              "  .colab-df-quickchart-complete:disabled:hover {\n",
              "    background-color: var(--disabled-bg-color);\n",
              "    fill: var(--disabled-fill-color);\n",
              "    box-shadow: none;\n",
              "  }\n",
              "\n",
              "  .colab-df-spinner {\n",
              "    border: 2px solid var(--fill-color);\n",
              "    border-color: transparent;\n",
              "    border-bottom-color: var(--fill-color);\n",
              "    animation:\n",
              "      spin 1s steps(1) infinite;\n",
              "  }\n",
              "\n",
              "  @keyframes spin {\n",
              "    0% {\n",
              "      border-color: transparent;\n",
              "      border-bottom-color: var(--fill-color);\n",
              "      border-left-color: var(--fill-color);\n",
              "    }\n",
              "    20% {\n",
              "      border-color: transparent;\n",
              "      border-left-color: var(--fill-color);\n",
              "      border-top-color: var(--fill-color);\n",
              "    }\n",
              "    30% {\n",
              "      border-color: transparent;\n",
              "      border-left-color: var(--fill-color);\n",
              "      border-top-color: var(--fill-color);\n",
              "      border-right-color: var(--fill-color);\n",
              "    }\n",
              "    40% {\n",
              "      border-color: transparent;\n",
              "      border-right-color: var(--fill-color);\n",
              "      border-top-color: var(--fill-color);\n",
              "    }\n",
              "    60% {\n",
              "      border-color: transparent;\n",
              "      border-right-color: var(--fill-color);\n",
              "    }\n",
              "    80% {\n",
              "      border-color: transparent;\n",
              "      border-right-color: var(--fill-color);\n",
              "      border-bottom-color: var(--fill-color);\n",
              "    }\n",
              "    90% {\n",
              "      border-color: transparent;\n",
              "      border-bottom-color: var(--fill-color);\n",
              "    }\n",
              "  }\n",
              "</style>\n",
              "\n",
              "  <script>\n",
              "    async function quickchart(key) {\n",
              "      const quickchartButtonEl =\n",
              "        document.querySelector('#' + key + ' button');\n",
              "      quickchartButtonEl.disabled = true;  // To prevent multiple clicks.\n",
              "      quickchartButtonEl.classList.add('colab-df-spinner');\n",
              "      try {\n",
              "        const charts = await google.colab.kernel.invokeFunction(\n",
              "            'suggestCharts', [key], {});\n",
              "      } catch (error) {\n",
              "        console.error('Error during call to suggestCharts:', error);\n",
              "      }\n",
              "      quickchartButtonEl.classList.remove('colab-df-spinner');\n",
              "      quickchartButtonEl.classList.add('colab-df-quickchart-complete');\n",
              "    }\n",
              "    (() => {\n",
              "      let quickchartButtonEl =\n",
              "        document.querySelector('#df-c2a73053-5f8d-44cd-a447-e2ab9c2b2d1d button');\n",
              "      quickchartButtonEl.style.display =\n",
              "        google.colab.kernel.accessAllowed ? 'block' : 'none';\n",
              "    })();\n",
              "  </script>\n",
              "</div>\n",
              "\n",
              "    </div>\n",
              "  </div>\n"
            ],
            "application/vnd.google.colaboratory.intrinsic+json": {
              "type": "dataframe",
              "variable_name": "df",
              "summary": "{\n  \"name\": \"df\",\n  \"rows\": 5813,\n  \"fields\": [\n    {\n      \"column\": \"instance\",\n      \"properties\": {\n        \"dtype\": \"string\",\n        \"num_unique_values\": 5813,\n        \"samples\": [\n          \"5b11df40fb4b7bbc\",\n          \"71663fa3751ab2a0\",\n          \"8fda94e2391e148e\"\n        ],\n        \"semantic_type\": \"\",\n        \"description\": \"\"\n      }\n    },\n    {\n      \"column\": \"label\",\n      \"properties\": {\n        \"dtype\": \"number\",\n        \"std\": 1,\n        \"min\": 0,\n        \"max\": 4,\n        \"num_unique_values\": 5,\n        \"samples\": [\n          1,\n          4,\n          2\n        ],\n        \"semantic_type\": \"\",\n        \"description\": \"\"\n      }\n    },\n    {\n      \"column\": \"label_name\",\n      \"properties\": {\n        \"dtype\": \"category\",\n        \"num_unique_values\": 5,\n        \"samples\": [\n          \"NERM1\",\n          \"REM\",\n          \"NERM2\"\n        ],\n        \"semantic_type\": \"\",\n        \"description\": \"\"\n      }\n    }\n  ]\n}"
            }
          },
          "metadata": {},
          "execution_count": 20
        }
      ]
    },
    {
      "cell_type": "markdown",
      "source": [
        "# Saving to Drive"
      ],
      "metadata": {
        "id": "k11LWmHmsqjl"
      }
    },
    {
      "cell_type": "code",
      "source": [
        "!mkdir -p /content/sleep-EEG-data\n",
        "!cp -r /content/formated_data /content/sleep-EEG-data/\n",
        "!cp /content/labels.csv /content/sleep-EEG-data/\n",
        "!zip -r /content/sleep-EEG-data.zip /content/sleep-EEG-data\n",
        "!cp /content/sleep-EEG-data.zip /content/drive/MyDrive/"
      ],
      "metadata": {
        "id": "YImMeQTfs2mw"
      },
      "execution_count": 25,
      "outputs": []
    },
    {
      "cell_type": "code",
      "source": [],
      "metadata": {
        "id": "yConY0NYtyLF"
      },
      "execution_count": null,
      "outputs": []
    },
    {
      "cell_type": "markdown",
      "source": [
        "# Loading Data"
      ],
      "metadata": {
        "id": "PJqEVSYUz1em"
      }
    },
    {
      "cell_type": "code",
      "source": [
        "import numpy as np\n",
        "import os\n",
        "from sklearn.model_selection import train_test_split\n",
        "import pandas as pd"
      ],
      "metadata": {
        "id": "mkAVBNF5z-PC"
      },
      "execution_count": 5,
      "outputs": []
    },
    {
      "cell_type": "code",
      "source": [
        "# Define the label mapping\n",
        "label_mapping = {\n",
        "    \"0\": \"WAKE\",\n",
        "    \"1\": \"NERM1\",\n",
        "    \"2\": \"NERM2\",\n",
        "    \"3\": \"NERM3\",\n",
        "    \"4\": \"REM\"\n",
        "}\n",
        "# Load labels from the CSV file\n",
        "labels_csv_path = \"/content/sleep-EEG-data/labels.csv\"\n",
        "data_dir = \"/content/sleep-EEG-data/formated_data\""
      ],
      "metadata": {
        "id": "uIa08Blq0B9J"
      },
      "execution_count": 6,
      "outputs": []
    },
    {
      "cell_type": "code",
      "source": [
        "def convert_labels_to_dic(labels_csv_path):\n",
        "  \"\"\"\n",
        "  Convert labels from a CSV file into a dictionary.\n",
        "\n",
        "  Returns:\n",
        "      dict: A dictionary mapping file instances to labels.\n",
        "  \"\"\"\n",
        "  labels_df = pd.read_csv(labels_csv_path)\n",
        "  # Convert the labels DataFrame into a dictionary for quick lookup\n",
        "  # Key: 'instance' (file name without extension), Value: 'label'\n",
        "  labels_dict = dict(zip(labels_df['instance'], labels_df['label']))\n",
        "  return labels_dict"
      ],
      "metadata": {
        "id": "jajl4K9E1ISL"
      },
      "execution_count": 7,
      "outputs": []
    },
    {
      "cell_type": "code",
      "source": [
        "labels_dict = convert_labels_to_dic(labels_csv_path)"
      ],
      "metadata": {
        "id": "l6qbi-761PUA"
      },
      "execution_count": 8,
      "outputs": []
    },
    {
      "cell_type": "code",
      "source": [
        "# Function to load EEG data and match labels\n",
        "def load_eeg_data_with_labels(data_dir, labels_dict):\n",
        "    \"\"\"\n",
        "    Load EEG data and match them with labels from the labels dictionary.\n",
        "\n",
        "    Args:\n",
        "        data_dir (str): Path to the directory containing .npy files.\n",
        "        labels_dict (dict): Dictionary mapping file instances to labels.\n",
        "\n",
        "    Returns:\n",
        "        data (numpy.ndarray): EEG data samples.\n",
        "        labels (numpy.ndarray): Corresponding labels.\n",
        "    \"\"\"\n",
        "    data = []\n",
        "    labels = []\n",
        "\n",
        "    # Iterate through all files in the directory\n",
        "    for file_name in os.listdir(data_dir):\n",
        "        if file_name.endswith('.npy'):\n",
        "            # Extract the instance name (filename without extension)\n",
        "            instance_name = os.path.splitext(file_name)[0]\n",
        "\n",
        "            # Check if the instance exists in the labels dictionary\n",
        "            if instance_name in labels_dict:\n",
        "                # Load the EEG sample\n",
        "                file_path = os.path.join(data_dir, file_name)\n",
        "                eeg_sample = np.load(file_path, allow_pickle=True)\n",
        "\n",
        "                # Append data and label\n",
        "                data.append(eeg_sample)\n",
        "                labels.append(labels_dict[instance_name])\n",
        "            else:\n",
        "                print(f\"Warning: No label found for {instance_name}\")\n",
        "\n",
        "    return np.array(data), np.array(labels)"
      ],
      "metadata": {
        "id": "hwm86tN-z7QP"
      },
      "execution_count": 9,
      "outputs": []
    },
    {
      "cell_type": "code",
      "source": [
        "# Load data and labels\n",
        "data, labels = load_eeg_data_with_labels(data_dir, labels_dict)\n",
        "\n",
        "# Map labels to label names (optional, for better interpretability)\n",
        "label_names = [label_mapping[str(label)] for label in labels]"
      ],
      "metadata": {
        "id": "bNd7uyuj1wQq"
      },
      "execution_count": 10,
      "outputs": []
    },
    {
      "cell_type": "code",
      "source": [
        "# Shuffle data\n",
        "indices = np.arange(len(data))\n",
        "np.random.shuffle(indices)\n",
        "data = data[indices]\n",
        "labels = labels[indices]"
      ],
      "metadata": {
        "id": "N_Tz-F5V2G81"
      },
      "execution_count": 11,
      "outputs": []
    },
    {
      "cell_type": "code",
      "source": [
        "# Split data into training and testing sets (85% train, 15% test)\n",
        "X_train, X_test, y_train, y_test = train_test_split(data, labels, test_size=0.15, random_state=42)"
      ],
      "metadata": {
        "id": "O2Zn2Nk62HE2"
      },
      "execution_count": 12,
      "outputs": []
    },
    {
      "cell_type": "code",
      "source": [
        "# Print shapes to verify\n",
        "print(\"Training data shape:\", X_train.shape)\n",
        "print(\"Testing data shape:\", X_test.shape)\n",
        "print(\"Training labels shape:\", y_train.shape)\n",
        "print(\"Testing labels shape:\", y_test.shape)"
      ],
      "metadata": {
        "colab": {
          "base_uri": "https://localhost:8080/"
        },
        "id": "YmirTtnJ2Njx",
        "outputId": "543ebab8-ec7b-41e3-f06c-0d8c32c61614"
      },
      "execution_count": 13,
      "outputs": [
        {
          "output_type": "stream",
          "name": "stdout",
          "text": [
            "Training data shape: (4941, 51, 59, 1)\n",
            "Testing data shape: (872, 51, 59, 1)\n",
            "Training labels shape: (4941,)\n",
            "Testing labels shape: (872,)\n"
          ]
        }
      ]
    },
    {
      "cell_type": "markdown",
      "source": [
        "# EDA"
      ],
      "metadata": {
        "id": "j4wawTtu6BOf"
      }
    },
    {
      "cell_type": "code",
      "source": [
        "import numpy as np\n",
        "import matplotlib.pyplot as plt"
      ],
      "metadata": {
        "id": "pNqkuwoL6AQw"
      },
      "execution_count": 28,
      "outputs": []
    },
    {
      "cell_type": "code",
      "source": [
        "# a random instance value desterbution\n",
        "random_index = np.random.randint(0, data.shape[0])\n",
        "random_instance = data[0].squeeze()\n",
        "\n",
        "# Flatten the instance to a 1D array\n",
        "flattened_data = random_instance.flatten()\n",
        "\n",
        "# Plot histogram\n",
        "plt.figure(figsize=(8, 6))\n",
        "plt.hist(flattened_data, bins=30, color='blue', alpha=0.7)\n",
        "plt.title('Histogram of Values for Random Instance')\n",
        "plt.xlabel('Value')\n",
        "plt.ylabel('Frequency')\n",
        "plt.grid(True)\n",
        "plt.show()"
      ],
      "metadata": {
        "colab": {
          "base_uri": "https://localhost:8080/",
          "height": 564
        },
        "id": "9kAY_qta4KHR",
        "outputId": "92aa145f-4ea6-43be-90b1-1c567757d075"
      },
      "execution_count": 29,
      "outputs": [
        {
          "output_type": "display_data",
          "data": {
            "text/plain": [
              "<Figure size 800x600 with 1 Axes>"
            ],
            "image/png": "[encoded data removed]"
          },
          "metadata": {}
        }
      ]
    },
    {
      "cell_type": "code",
      "source": [
        "# all instances value desterbution\n",
        "\n",
        "flattened_data = data.flatten()\n",
        "\n",
        "# Plot histogram\n",
        "plt.figure(figsize=(10, 6))\n",
        "plt.hist(flattened_data, bins=50, color='green', alpha=0.7)\n",
        "plt.title('Value Distribution Across Entire Dataset')\n",
        "plt.xlabel('Value')\n",
        "plt.ylabel('Frequency')\n",
        "plt.grid(True)\n",
        "plt.show()"
      ],
      "metadata": {
        "colab": {
          "base_uri": "https://localhost:8080/",
          "height": 564
        },
        "id": "H0futbmn5vtX",
        "outputId": "0402c395-a855-4e77-e119-946845e8f116"
      },
      "execution_count": 31,
      "outputs": [
        {
          "output_type": "display_data",
          "data": {
            "text/plain": [
              "<Figure size 1000x600 with 1 Axes>"
            ],
            "image/png": "[encoded data removed]"
          },
          "metadata": {}
        }
      ]
    },
    {
      "cell_type": "markdown",
      "source": [
        "# Building a Trasformer"
      ],
      "metadata": {
        "id": "ynZs_IxG3MPD"
      }
    },
    {
      "cell_type": "code",
      "source": [
        "import tensorflow as tf\n",
        "from tensorflow.keras import layers, models\n",
        "from transformers import ViTForImageClassification, ViTFeatureExtractor\n",
        "from sklearn.preprocessing import OneHotEncoder\n",
        "import numpy as np"
      ],
      "metadata": {
        "id": "Kz_FqhhQ3Upp"
      },
      "execution_count": 1,
      "outputs": []
    },
    {
      "cell_type": "code",
      "source": [
        "# Set parameters\n",
        "NUM_CLASSES = 5\n",
        "IMG_SIZE = (224, 224)  # Resize images to 224x224 for ViT\n",
        "BATCH_SIZE = 32\n",
        "EPOCHS = 10"
      ],
      "metadata": {
        "id": "Cg-l4wgd35Sj"
      },
      "execution_count": 3,
      "outputs": []
    },
    {
      "cell_type": "code",
      "source": [
        "# Preprocess data\n",
        "def preprocess_data(X, y, img_size):\n",
        "    \"\"\"\n",
        "    Preprocess EEG spectrogram data for transformer input.\n",
        "\n",
        "    Args:\n",
        "        X (numpy.ndarray): Input data (samples, 51, 59, 1).\n",
        "        y (numpy.ndarray): Labels (samples,).\n",
        "        img_size (tuple): Target image size (height, width).\n",
        "\n",
        "    Returns:\n",
        "        X_preprocessed, y_onehot: Resized and normalized data, and one-hot encoded labels.\n",
        "    \"\"\"\n",
        "    # Resize images\n",
        "    X_resized = tf.image.resize(X, img_size).numpy()\n",
        "    # Normalize to range [0, 1]\n",
        "    min_val = flattened_data.min()\n",
        "    max_val = flattened_data.max()\n",
        "    print(min_val, max_val)\n",
        "    X_normalized = (X_resized - min_val) / (max_val - min_val)\n",
        "    # One-hot encode labels\n",
        "    y_onehot = tf.keras.utils.to_categorical(y, NUM_CLASSES)\n",
        "    return X_normalized, y_onehot"
      ],
      "metadata": {
        "id": "VqUwV0vq3SCx"
      },
      "execution_count": 32,
      "outputs": []
    },
    {
      "cell_type": "code",
      "source": [
        "X_train_preprocessed, y_train_preprocessed = preprocess_data(X_train, y_train, IMG_SIZE)\n",
        "X_test_preprocessed, y_test_preprocessed = preprocess_data(X_test, y_test, IMG_SIZE)"
      ],
      "metadata": {
        "colab": {
          "base_uri": "https://localhost:8080/"
        },
        "id": "yV4v1IOE7_s3",
        "outputId": "f0802a58-8394-45e9-f45c-dafc6d2318cd"
      },
      "execution_count": 33,
      "outputs": [
        {
          "output_type": "stream",
          "name": "stdout",
          "text": [
            "7.778229078480061e-14 0.004543650045103833\n",
            "7.778229078480061e-14 0.004543650045103833\n"
          ]
        }
      ]
    },
    {
      "cell_type": "code",
      "source": [
        "# a random instance value desterbution\n",
        "random_index = np.random.randint(0, X_train_preprocessed.shape[0])\n",
        "random_instance = X_train_preprocessed[0].squeeze()\n",
        "\n",
        "# Flatten the instance to a 1D array\n",
        "flattened_data = random_instance.flatten()\n",
        "\n",
        "# Plot histogram\n",
        "plt.figure(figsize=(8, 6))\n",
        "plt.hist(flattened_data, bins=30, color='blue', alpha=0.7)\n",
        "plt.title('Histogram of Values for Random Instance')\n",
        "plt.xlabel('Value')\n",
        "plt.ylabel('Frequency')\n",
        "plt.grid(True)\n",
        "plt.show()"
      ],
      "metadata": {
        "colab": {
          "base_uri": "https://localhost:8080/",
          "height": 564
        },
        "id": "jDWJCJCa8NOy",
        "outputId": "8314c587-3b3b-4bde-85f9-e639519dc664"
      },
      "execution_count": 39,
      "outputs": [
        {
          "output_type": "display_data",
          "data": {
            "text/plain": [
              "<Figure size 800x600 with 1 Axes>"
            ],
            "image/png": "[encoded data removed]"
          },
          "metadata": {}
        }
      ]
    },
    {
      "cell_type": "code",
      "source": [
        "# Load pre-trained ViT model\n",
        "model = ViTForImageClassification.from_pretrained(\n",
        "    'google/vit-base-patch16-224-in21k',\n",
        "    num_labels=NUM_CLASSES\n",
        ")\n",
        "\n",
        "# Freeze pre-trained layers if desired\n",
        "for layer in model.vit.encoder.layer[:-1]:\n",
        "    layer.trainable = False\n",
        "\n",
        "# Define optimizer and loss\n",
        "optimizer = tf.keras.optimizers.Adam(learning_rate=3e-5)\n",
        "loss_fn = tf.keras.losses.CategoricalCrossentropy()\n",
        "\n",
        "# Compile the model\n",
        "model.compile(optimizer=optimizer, loss=loss_fn, metrics=['accuracy'])\n",
        "\n",
        "# Train the model\n",
        "history = model.fit(\n",
        "    X_train_preprocessed,\n",
        "    y_train_preprocessed,\n",
        "    validation_data=(X_test_preprocessed, y_test_preprocessed),\n",
        "    batch_size=BATCH_SIZE,\n",
        "    epochs=EPOCHS\n",
        ")\n",
        "\n",
        "# Evaluate the model\n",
        "loss, accuracy = model.evaluate(X_test_preprocessed, y_test_preprocessed)\n",
        "print(f\"Test Accuracy: {accuracy:.2f}\")\n",
        "\n",
        "# Save the fine-tuned model\n",
        "model.save_pretrained('./fine_tuned_vit')"
      ],
      "metadata": {
        "id": "ZrN2Xv8I79mW"
      },
      "execution_count": null,
      "outputs": []
    }
  ]
}